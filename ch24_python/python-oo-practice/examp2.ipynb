{
 "cells": [
  {
   "cell_type": "code",
   "execution_count": 10,
   "metadata": {},
   "outputs": [
    {
     "name": "stdout",
     "output_type": "stream",
     "text": [
      "235886 words read\n",
      "merosthenic\n"
     ]
    }
   ],
   "source": [
    "\"\"\"Word Finder: finds random words from a dictionary.\"\"\"\n",
    "\n",
    "import random\n",
    "\n",
    "class WordFinder:\n",
    "    ...\n",
    "\n",
    "    def __init__(self, path):\n",
    "        \"\"\"Read dictionary and reports # items read.\"\"\"\n",
    "\n",
    "        with open(path, 'r') as file:\n",
    "            self.words = file.read().split()\n",
    "\n",
    "        print(f\"{len(self.words)} words read\")\n",
    "\n",
    "    def random(self):\n",
    "        \"\"\"Return a random word.\"\"\"\n",
    "        return random.choice(self.words)\n",
    "\n",
    "wf = WordFinder(\"words.txt\")\n",
    "\n",
    "print(wf.random())"
   ]
  },
  {
   "cell_type": "code",
   "execution_count": null,
   "metadata": {},
   "outputs": [],
   "source": []
  }
 ],
 "metadata": {
  "kernelspec": {
   "display_name": "Python 3",
   "language": "python",
   "name": "python3"
  },
  "language_info": {
   "codemirror_mode": {
    "name": "ipython",
    "version": 3
   },
   "file_extension": ".py",
   "mimetype": "text/x-python",
   "name": "python",
   "nbconvert_exporter": "python",
   "pygments_lexer": "ipython3",
   "version": "3.9.2"
  }
 },
 "nbformat": 4,
 "nbformat_minor": 2
}
