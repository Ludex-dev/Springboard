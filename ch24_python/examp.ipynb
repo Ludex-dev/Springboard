{
 "cells": [
  {
   "cell_type": "code",
   "execution_count": 16,
   "metadata": {},
   "outputs": [
    {
     "data": {
      "text/plain": [
       "100"
      ]
     },
     "execution_count": 16,
     "metadata": {},
     "output_type": "execute_result"
    }
   ],
   "source": [
    "\"\"\"Python serial number generator.\"\"\"\n",
    "\n",
    "class SerialGenerator:\n",
    "    \"\"\"Machine to create unique incrementing serial numbers.\n",
    "    \n",
    "    >>> serial = SerialGenerator(start=100)\n",
    "\n",
    "    >>> serial.generate()\n",
    "    100\n",
    "\n",
    "    >>> serial.generate()\n",
    "    101\n",
    "\n",
    "    >>> serial.generate()\n",
    "    102\n",
    "\n",
    "    >>> serial.reset()\n",
    "\n",
    "    >>> serial.generate()\n",
    "    100\n",
    "    \"\"\"\n",
    "    def __init__ (self, start):\n",
    "        self.start = start\n",
    "        self.current = start\n",
    "\n",
    "    def generate(self):\n",
    "        self.current += 1\n",
    "        return(self.current - 1)\n",
    "    \n",
    "    def reset(self):\n",
    "        self.current = self.start\n",
    "\n",
    "serial = SerialGenerator(start=100)\n",
    "serial.generate()\n",
    "serial.generate()\n",
    "serial.reset()\n",
    "serial.generate()"
   ]
  }
 ],
 "metadata": {
  "kernelspec": {
   "display_name": "Python 3",
   "language": "python",
   "name": "python3"
  },
  "language_info": {
   "codemirror_mode": {
    "name": "ipython",
    "version": 3
   },
   "file_extension": ".py",
   "mimetype": "text/x-python",
   "name": "python",
   "nbconvert_exporter": "python",
   "pygments_lexer": "ipython3",
   "version": "3.9.2"
  }
 },
 "nbformat": 4,
 "nbformat_minor": 2
}
